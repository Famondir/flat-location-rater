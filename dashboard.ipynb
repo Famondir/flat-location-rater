{
 "cells": [
  {
   "cell_type": "code",
   "execution_count": 36,
   "id": "22dc796e-16d0-4ec3-823f-9d4de12e1995",
   "metadata": {},
   "outputs": [
    {
     "name": "stdout",
     "output_type": "stream",
     "text": [
      "Successfully connected to SQLite\n",
      "Attributes of table 'listing':\n",
      "CID | Name | Type | NotNull | Default | PrimaryKey\n",
      "(0, 'serviceName', 'TEXT', 0, None, 0)\n",
      "(1, 'jobKey', 'TEXT', 0, None, 0)\n",
      "(2, 'id', 'TEXT', 0, None, 0)\n",
      "(3, 'size', 'TEXT', 0, None, 0)\n",
      "(4, 'rooms', 'TEXT', 0, None, 0)\n",
      "(5, 'price', 'TEXT', 0, None, 0)\n",
      "(6, 'address', 'TEXT', 0, None, 0)\n",
      "(7, 'title', 'TEXT', 0, None, 0)\n",
      "(8, 'link', 'TEXT', 0, None, 0)\n",
      "(9, 'description', 'TEXT', 0, None, 0)\n",
      "1      10719\n",
      "2      10969\n",
      "3      13585\n",
      "4      13409\n",
      "5      13507\n",
      "       ...  \n",
      "132    13585\n",
      "133    13595\n",
      "134    13585\n",
      "135    10781\n",
      "136    13409\n",
      "Name: PLZ, Length: 111, dtype: object\n",
      "SQLite connection closed\n"
     ]
    }
   ],
   "source": [
    "import sqlite3\n",
    "import pandas as pd\n",
    "import re\n",
    "\n",
    "# Path to your SQLite database (use \":memory:\" for an in-memory database)\n",
    "db_path = \"../fredy/db/listings.db\"\n",
    "\n",
    "try:\n",
    "    # Connect to SQLite database\n",
    "    connection = sqlite3.connect(db_path)\n",
    "    print(\"Successfully connected to SQLite\")\n",
    "\n",
    "    # Create a cursor object to execute SQL queries\n",
    "    cursor = connection.cursor()\n",
    "\n",
    "    # Query to list all tables in the database\n",
    "    cursor.execute(\"SELECT name FROM sqlite_master WHERE type='table';\")\n",
    "\n",
    "    # Fetch all results\n",
    "    tables = cursor.fetchall()\n",
    "\n",
    "    \"\"\"\n",
    "    # Print the table names\n",
    "    print(\"Tables in the database:\")\n",
    "    for table in tables:\n",
    "        print(table[0])  # Each result is a tuple; table name is the first element\n",
    "    \"\"\"\n",
    "\n",
    "    # Specify the table name\n",
    "    table_name = \"listing\"\n",
    "\n",
    "    # Query to get the table's structure\n",
    "    cursor.execute(f\"PRAGMA table_info({table_name});\")\n",
    "\n",
    "    # Fetch all results\n",
    "    columns = cursor.fetchall()\n",
    "\n",
    "    # Print column information\n",
    "    print(f\"Attributes of table '{table_name}':\")\n",
    "    print(\"CID | Name | Type | NotNull | Default | PrimaryKey\")\n",
    "    for column in columns:\n",
    "        print(column)  # Each column is a tuple\n",
    "    \n",
    "    # Example: Query data\n",
    "    query = (f\"SELECT * FROM {table_name}\")\n",
    "\n",
    "    df = pd.read_sql_query(query, connection).query('jobKey != \"TestJob\"').drop(columns = ['jobKey', 'id']).drop_duplicates()\n",
    "    df['PLZ'] = df['address'].transform(lambda x: re.search(\"[0-9]{5}\", x)[0])\n",
    "    print(df['PLZ'])\n",
    "        \n",
    "except sqlite3.Error as e:\n",
    "    print(f\"SQLite error: {e}\")\n",
    "finally:\n",
    "    # Close the connection\n",
    "    if connection:\n",
    "        connection.close()\n",
    "        print(\"SQLite connection closed\")"
   ]
  },
  {
   "cell_type": "code",
   "execution_count": 44,
   "id": "cd73ccfa-03d5-426a-bd01-21acc3c92f1f",
   "metadata": {},
   "outputs": [],
   "source": [
    "import requests\n",
    "\n",
    "# URL for fetching JSON data\n",
    "url = 'https://v6.bvg.transport.rest/journeys?from.latitude=52.543333&from.longitude=13.351686&from.address=12623+Berlin&to=900014101&departure=tomorrow+2pm&results=2'\n",
    "\n",
    "try:\n",
    "    # Make a GET request to the URL\n",
    "    response = requests.get(url)\n",
    "\n",
    "    # Raise an exception if the request was not successful\n",
    "    response.raise_for_status()\n",
    "\n",
    "    # Parse the JSON data from the response\n",
    "    data = response.json()\n",
    "\n",
    "except requests.exceptions.RequestException as e:\n",
    "    # Handle any errors that occur during the request\n",
    "    print(f\"An error occurred: {e}\")"
   ]
  },
  {
   "cell_type": "code",
   "execution_count": 45,
   "id": "4533d64f-15c4-4a9f-b397-0b0ff7cf1c55",
   "metadata": {},
   "outputs": [
    {
     "name": "stdout",
     "output_type": "stream",
     "text": [
      "datetime.timedelta(seconds=180)\n"
     ]
    }
   ],
   "source": [
    "from datetime import datetime\n",
    "import jmespath\n",
    "from pprint import pprint\n",
    "\n",
    "# data = {\"key1\": {\"key2\": {\"key3\": \"value\"}}}\n",
    "result = datetime.fromisoformat(jmespath.search('journeys[0].legs[0].arrival', data))-datetime.fromisoformat(jmespath.search('journeys[0].legs[0].departure', data))\n",
    "pprint(result)"
   ]
  },
  {
   "cell_type": "code",
   "execution_count": 46,
   "id": "dd75d82a-bd22-4511-9c8c-5ad292a32874",
   "metadata": {},
   "outputs": [
    {
     "name": "stdout",
     "output_type": "stream",
     "text": [
      "{'arrival': '2024-12-24T14:05:00+01:00',\n",
      " 'arrivalDelay': None,\n",
      " 'departure': '2024-12-24T14:02:00+01:00',\n",
      " 'departureDelay': None,\n",
      " 'destination': {'id': '900009101',\n",
      "                 'location': {'id': '900009101',\n",
      "                              'latitude': 52.542201,\n",
      "                              'longitude': 13.34953,\n",
      "                              'type': 'location'},\n",
      "                 'name': 'U Amrumer Str. (Berlin)',\n",
      "                 'products': {'bus': True,\n",
      "                              'express': False,\n",
      "                              'ferry': False,\n",
      "                              'regional': False,\n",
      "                              'suburban': False,\n",
      "                              'subway': True,\n",
      "                              'tram': False},\n",
      "                 'type': 'stop'},\n",
      " 'distance': 259,\n",
      " 'origin': {'address': '12623 Berlin',\n",
      "            'id': None,\n",
      "            'latitude': 52.543333,\n",
      "            'longitude': 13.351686,\n",
      "            'type': 'location'},\n",
      " 'plannedArrival': '2024-12-24T14:05:00+01:00',\n",
      " 'plannedDeparture': '2024-12-24T14:02:00+01:00',\n",
      " 'public': True,\n",
      " 'walking': True}\n"
     ]
    }
   ],
   "source": [
    "pprint(jmespath.search('journeys[0].legs[0]', data))"
   ]
  },
  {
   "cell_type": "code",
   "execution_count": 40,
   "id": "b9fad9df-5f02-424a-8e26-3fcc6b34753e",
   "metadata": {},
   "outputs": [
    {
     "ename": "NameError",
     "evalue": "name 'result' is not defined",
     "output_type": "error",
     "traceback": [
      "\u001b[1;31m---------------------------------------------------------------------------\u001b[0m",
      "\u001b[1;31mNameError\u001b[0m                                 Traceback (most recent call last)",
      "Cell \u001b[1;32mIn[40], line 4\u001b[0m\n\u001b[0;32m      1\u001b[0m \u001b[38;5;28;01mfrom\u001b[39;00m \u001b[38;5;21;01mdatetime\u001b[39;00m \u001b[38;5;28;01mimport\u001b[39;00m datetime\n\u001b[0;32m      3\u001b[0m \u001b[38;5;66;03m# ISO 8601 datetime string\u001b[39;00m\n\u001b[1;32m----> 4\u001b[0m datetime_str \u001b[38;5;241m=\u001b[39m \u001b[43mresult\u001b[49m\n\u001b[0;32m      6\u001b[0m \u001b[38;5;66;03m# Parse the datetime string\u001b[39;00m\n\u001b[0;32m      7\u001b[0m parsed_datetime \u001b[38;5;241m=\u001b[39m datetime\u001b[38;5;241m.\u001b[39mfromisoformat(datetime_str)\n",
      "\u001b[1;31mNameError\u001b[0m: name 'result' is not defined"
     ]
    }
   ],
   "source": [
    "# ISO 8601 datetime string\n",
    "datetime_str = result\n",
    "\n",
    "# Parse the datetime string\n",
    "parsed_datetime = datetime.fromisoformat(datetime_str)"
   ]
  },
  {
   "cell_type": "code",
   "execution_count": 25,
   "id": "6159ad12-eda6-488a-8dc4-635aa135af95",
   "metadata": {},
   "outputs": [
    {
     "data": {
      "text/plain": [
       "datetime.datetime(2024, 12, 23, 14, 4, tzinfo=datetime.timezone(datetime.timedelta(seconds=3600)))"
      ]
     },
     "execution_count": 25,
     "metadata": {},
     "output_type": "execute_result"
    }
   ],
   "source": [
    "parsed_datetime"
   ]
  },
  {
   "cell_type": "code",
   "execution_count": null,
   "id": "669d9cdb-671d-4a80-b71c-9582ceedc61c",
   "metadata": {},
   "outputs": [],
   "source": []
  }
 ],
 "metadata": {
  "kernelspec": {
   "display_name": "Python 3 (ipykernel)",
   "language": "python",
   "name": "python3"
  },
  "language_info": {
   "codemirror_mode": {
    "name": "ipython",
    "version": 3
   },
   "file_extension": ".py",
   "mimetype": "text/x-python",
   "name": "python",
   "nbconvert_exporter": "python",
   "pygments_lexer": "ipython3",
   "version": "3.12.4"
  }
 },
 "nbformat": 4,
 "nbformat_minor": 5
}
